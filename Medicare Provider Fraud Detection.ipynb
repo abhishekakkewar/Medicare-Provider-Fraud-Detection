{
 "cells": [
  {
   "cell_type": "code",
   "execution_count": 1,
   "id": "bd74ef0e",
   "metadata": {},
   "outputs": [],
   "source": [
    "import os\n",
    "import sys\n",
    "import math\n",
    "import scipy as scipy\n",
    "import numpy as np\n",
    "import pandas as pd\n",
    "import matplotlib.pyplot as plt\n",
    "import seaborn as sns\n",
    "%matplotlib inline"
   ]
  },
  {
   "cell_type": "code",
   "execution_count": 2,
   "id": "201f2f58",
   "metadata": {},
   "outputs": [],
   "source": [
    "pd.set_option('display.max_columns',30)\n",
    "label_font_dict = {'family':'sans-serif','size':13.5, 'color':'brown','style':'italic'}\n",
    "title_font_dict = {'family':'sans=serif', 'size':16.5, 'color':'Blue','style':'italic'}"
   ]
  },
  {
   "cell_type": "markdown",
   "id": "2a57ce91",
   "metadata": {},
   "source": [
    "# Beneficiary Data - Exploratory Data Analysis"
   ]
  },
  {
   "cell_type": "code",
   "execution_count": 4,
   "id": "4eff1fdc",
   "metadata": {},
   "outputs": [],
   "source": [
    "train_bene_df = pd.read_csv(r\"C:\\Users\\aakkewar\\Documents\\BOOTCAMP (PowerBI, SQL, Python, R)\\DataScienceProject\\Healthcare Provider Fraud Detection Analysis\\Dataset\\Train_Beneficiarydata-1542865627584.csv\")"
   ]
  },
  {
   "cell_type": "code",
   "execution_count": 6,
   "id": "83d336b9",
   "metadata": {},
   "outputs": [],
   "source": [
    "train_ip_df = pd.read_csv(r\"C:\\Users\\aakkewar\\Documents\\BOOTCAMP (PowerBI, SQL, Python, R)\\DataScienceProject\\Healthcare Provider Fraud Detection Analysis\\Dataset\\Train_Inpatientdata-1542865627584.csv\")"
   ]
  },
  {
   "cell_type": "code",
   "execution_count": 7,
   "id": "482c700f",
   "metadata": {},
   "outputs": [],
   "source": [
    "train_op_df = pd.read_csv(r\"C:\\Users\\aakkewar\\Documents\\BOOTCAMP (PowerBI, SQL, Python, R)\\DataScienceProject\\Healthcare Provider Fraud Detection Analysis\\Dataset\\Train_Outpatientdata-1542865627584.csv\")"
   ]
  },
  {
   "cell_type": "code",
   "execution_count": null,
   "id": "6be2c736",
   "metadata": {},
   "outputs": [],
   "source": []
  }
 ],
 "metadata": {
  "kernelspec": {
   "display_name": "Python 3 (ipykernel)",
   "language": "python",
   "name": "python3"
  },
  "language_info": {
   "codemirror_mode": {
    "name": "ipython",
    "version": 3
   },
   "file_extension": ".py",
   "mimetype": "text/x-python",
   "name": "python",
   "nbconvert_exporter": "python",
   "pygments_lexer": "ipython3",
   "version": "3.10.9"
  }
 },
 "nbformat": 4,
 "nbformat_minor": 5
}
